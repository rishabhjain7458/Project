{
 "cells": [
  {
   "cell_type": "markdown",
   "id": "d7ac1612",
   "metadata": {},
   "source": [
    "Fahrenheit to Celsius Function"
   ]
  },
  {
   "cell_type": "code",
   "execution_count": 1,
   "id": "b3ecf6db",
   "metadata": {
    "scrolled": true
   },
   "outputs": [
    {
     "name": "stdout",
     "output_type": "stream",
     "text": [
      "0\n",
      "120\n",
      "20\n",
      "0 \t -17\n",
      "20 \t -6\n",
      "40 \t 4\n",
      "60 \t 15\n",
      "80 \t 26\n",
      "100 \t 37\n",
      "120 \t 48\n"
     ]
    }
   ],
   "source": [
    "def f(s,e,w):\n",
    "    while s<=e:\n",
    "        i=(s-32)*5/9\n",
    "        print(s,'\\t',int(i))\n",
    "        s=s+w\n",
    "s=int(input())\n",
    "e=int(input())\n",
    "w=int(input())\n",
    "if 0<=s<=1000 and 0<=e<=1000 and 0<=w<=1000:\n",
    "    f(s,e,w)"
   ]
  },
  {
   "cell_type": "markdown",
   "id": "cafc9a8f",
   "metadata": {},
   "source": [
    "Fibonacci Member"
   ]
  },
  {
   "cell_type": "code",
   "execution_count": 7,
   "id": "e83a3d0e",
   "metadata": {},
   "outputs": [
    {
     "name": "stdout",
     "output_type": "stream",
     "text": [
      "9\n",
      "false\n"
     ]
    }
   ],
   "source": [
    "def checkMember(n):\n",
    "    R1, R2=(5*(n*n)+4), (5*(n*n)-4)\n",
    "    a, b= int(R1**0.5), (R2**0.5)\n",
    "    return a*a==R1 or b*b==R2\n",
    "    \n",
    "\n",
    "\n",
    "n=int(input())\n",
    "if(checkMember(n)):\n",
    "    print(\"true\")\n",
    "else:\n",
    "    print(\"false\")"
   ]
  },
  {
   "cell_type": "markdown",
   "id": "22fe1b0f",
   "metadata": {},
   "source": [
    "Palindrome number"
   ]
  },
  {
   "cell_type": "code",
   "execution_count": 12,
   "id": "067a690e",
   "metadata": {},
   "outputs": [
    {
     "name": "stdout",
     "output_type": "stream",
     "text": [
      "121\n",
      "true\n"
     ]
    }
   ],
   "source": [
    "def checkPalindrome(num):\n",
    "        a=0\n",
    "        x=num\n",
    "        while (x>0):\n",
    "            a=(a*10)+(x%10)\n",
    "            x//=10\n",
    "        return num==a\n",
    "\t\t\n",
    "num = int(input())\n",
    "isPalindrome = checkPalindrome(num)\n",
    "if(isPalindrome):\n",
    "\tprint('true')\n",
    "else:\n",
    "\tprint('false')\n"
   ]
  },
  {
   "cell_type": "markdown",
   "id": "eec2234e",
   "metadata": {},
   "source": [
    "Check Armstrong"
   ]
  },
  {
   "cell_type": "code",
   "execution_count": 3,
   "id": "43b98d07",
   "metadata": {},
   "outputs": [
    {
     "name": "stdout",
     "output_type": "stream",
     "text": [
      "153\n",
      "true\n"
     ]
    }
   ],
   "source": [
    "n=int(input())\n",
    "s=0\n",
    "i=len(str(n))\n",
    "t=n\n",
    "\n",
    "while t>0:\n",
    "    d=t%10\n",
    "    s+=d**i\n",
    "    t//=10\n",
    "if n==s:\n",
    "    print('true')\n",
    "else:\n",
    "    print('false')"
   ]
  }
 ],
 "metadata": {
  "kernelspec": {
   "display_name": "Python 3 (ipykernel)",
   "language": "python",
   "name": "python3"
  },
  "language_info": {
   "codemirror_mode": {
    "name": "ipython",
    "version": 3
   },
   "file_extension": ".py",
   "mimetype": "text/x-python",
   "name": "python",
   "nbconvert_exporter": "python",
   "pygments_lexer": "ipython3",
   "version": "3.9.12"
  }
 },
 "nbformat": 4,
 "nbformat_minor": 5
}
